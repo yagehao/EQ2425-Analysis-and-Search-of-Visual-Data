{
  "nbformat": 4,
  "nbformat_minor": 0,
  "metadata": {
    "colab": {
      "name": "EQ2425Lab3.ipynb",
      "provenance": [],
      "collapsed_sections": [
        "HJ3DYlUDHiPt",
        "mT6Mn37V-roR"
      ]
    },
    "kernelspec": {
      "name": "python3",
      "display_name": "Python 3"
    },
    "language_info": {
      "name": "python"
    },
    "accelerator": "GPU",
    "widgets": {
      "application/vnd.jupyter.widget-state+json": {
        "9d50edf014024c0189c205123c16ecfe": {
          "model_module": "@jupyter-widgets/controls",
          "model_name": "HBoxModel",
          "model_module_version": "1.5.0",
          "state": {
            "_view_name": "HBoxView",
            "_dom_classes": [],
            "_model_name": "HBoxModel",
            "_view_module": "@jupyter-widgets/controls",
            "_model_module_version": "1.5.0",
            "_view_count": null,
            "_view_module_version": "1.5.0",
            "box_style": "",
            "layout": "IPY_MODEL_313b85d1d73a4a1a80e749cc83da4523",
            "_model_module": "@jupyter-widgets/controls",
            "children": [
              "IPY_MODEL_5007cd5332934f0d8781cb69cdc5438d",
              "IPY_MODEL_bf63eeabfa394558a8e9b33f939cbbf9",
              "IPY_MODEL_2d2e5738523d496689093ccf2a73e7aa"
            ]
          }
        },
        "313b85d1d73a4a1a80e749cc83da4523": {
          "model_module": "@jupyter-widgets/base",
          "model_name": "LayoutModel",
          "model_module_version": "1.2.0",
          "state": {
            "_view_name": "LayoutView",
            "grid_template_rows": null,
            "right": null,
            "justify_content": null,
            "_view_module": "@jupyter-widgets/base",
            "overflow": null,
            "_model_module_version": "1.2.0",
            "_view_count": null,
            "flex_flow": null,
            "width": null,
            "min_width": null,
            "border": null,
            "align_items": null,
            "bottom": null,
            "_model_module": "@jupyter-widgets/base",
            "top": null,
            "grid_column": null,
            "overflow_y": null,
            "overflow_x": null,
            "grid_auto_flow": null,
            "grid_area": null,
            "grid_template_columns": null,
            "flex": null,
            "_model_name": "LayoutModel",
            "justify_items": null,
            "grid_row": null,
            "max_height": null,
            "align_content": null,
            "visibility": null,
            "align_self": null,
            "height": null,
            "min_height": null,
            "padding": null,
            "grid_auto_rows": null,
            "grid_gap": null,
            "max_width": null,
            "order": null,
            "_view_module_version": "1.2.0",
            "grid_template_areas": null,
            "object_position": null,
            "object_fit": null,
            "grid_auto_columns": null,
            "margin": null,
            "display": null,
            "left": null
          }
        },
        "5007cd5332934f0d8781cb69cdc5438d": {
          "model_module": "@jupyter-widgets/controls",
          "model_name": "HTMLModel",
          "model_module_version": "1.5.0",
          "state": {
            "_view_name": "HTMLView",
            "style": "IPY_MODEL_06d18a10f74b459f9c685d1efb8786b3",
            "_dom_classes": [],
            "description": "",
            "_model_name": "HTMLModel",
            "placeholder": "​",
            "_view_module": "@jupyter-widgets/controls",
            "_model_module_version": "1.5.0",
            "value": "",
            "_view_count": null,
            "_view_module_version": "1.5.0",
            "description_tooltip": null,
            "_model_module": "@jupyter-widgets/controls",
            "layout": "IPY_MODEL_ca5f293e7cf1429799329fff58d13a64"
          }
        },
        "bf63eeabfa394558a8e9b33f939cbbf9": {
          "model_module": "@jupyter-widgets/controls",
          "model_name": "FloatProgressModel",
          "model_module_version": "1.5.0",
          "state": {
            "_view_name": "ProgressView",
            "style": "IPY_MODEL_b543853e6c5c4a818c6bf507f8373f1a",
            "_dom_classes": [],
            "description": "",
            "_model_name": "FloatProgressModel",
            "bar_style": "success",
            "max": 170498071,
            "_view_module": "@jupyter-widgets/controls",
            "_model_module_version": "1.5.0",
            "value": 170498071,
            "_view_count": null,
            "_view_module_version": "1.5.0",
            "orientation": "horizontal",
            "min": 0,
            "description_tooltip": null,
            "_model_module": "@jupyter-widgets/controls",
            "layout": "IPY_MODEL_c93564d534d947fd997c687d3b3ddc02"
          }
        },
        "2d2e5738523d496689093ccf2a73e7aa": {
          "model_module": "@jupyter-widgets/controls",
          "model_name": "HTMLModel",
          "model_module_version": "1.5.0",
          "state": {
            "_view_name": "HTMLView",
            "style": "IPY_MODEL_b9c8320464b148d089957df1c2773950",
            "_dom_classes": [],
            "description": "",
            "_model_name": "HTMLModel",
            "placeholder": "​",
            "_view_module": "@jupyter-widgets/controls",
            "_model_module_version": "1.5.0",
            "value": " 170499072/? [00:06&lt;00:00, 30150229.82it/s]",
            "_view_count": null,
            "_view_module_version": "1.5.0",
            "description_tooltip": null,
            "_model_module": "@jupyter-widgets/controls",
            "layout": "IPY_MODEL_9143dc5508444da28b14c658df5df53e"
          }
        },
        "06d18a10f74b459f9c685d1efb8786b3": {
          "model_module": "@jupyter-widgets/controls",
          "model_name": "DescriptionStyleModel",
          "model_module_version": "1.5.0",
          "state": {
            "_view_name": "StyleView",
            "_model_name": "DescriptionStyleModel",
            "description_width": "",
            "_view_module": "@jupyter-widgets/base",
            "_model_module_version": "1.5.0",
            "_view_count": null,
            "_view_module_version": "1.2.0",
            "_model_module": "@jupyter-widgets/controls"
          }
        },
        "ca5f293e7cf1429799329fff58d13a64": {
          "model_module": "@jupyter-widgets/base",
          "model_name": "LayoutModel",
          "model_module_version": "1.2.0",
          "state": {
            "_view_name": "LayoutView",
            "grid_template_rows": null,
            "right": null,
            "justify_content": null,
            "_view_module": "@jupyter-widgets/base",
            "overflow": null,
            "_model_module_version": "1.2.0",
            "_view_count": null,
            "flex_flow": null,
            "width": null,
            "min_width": null,
            "border": null,
            "align_items": null,
            "bottom": null,
            "_model_module": "@jupyter-widgets/base",
            "top": null,
            "grid_column": null,
            "overflow_y": null,
            "overflow_x": null,
            "grid_auto_flow": null,
            "grid_area": null,
            "grid_template_columns": null,
            "flex": null,
            "_model_name": "LayoutModel",
            "justify_items": null,
            "grid_row": null,
            "max_height": null,
            "align_content": null,
            "visibility": null,
            "align_self": null,
            "height": null,
            "min_height": null,
            "padding": null,
            "grid_auto_rows": null,
            "grid_gap": null,
            "max_width": null,
            "order": null,
            "_view_module_version": "1.2.0",
            "grid_template_areas": null,
            "object_position": null,
            "object_fit": null,
            "grid_auto_columns": null,
            "margin": null,
            "display": null,
            "left": null
          }
        },
        "b543853e6c5c4a818c6bf507f8373f1a": {
          "model_module": "@jupyter-widgets/controls",
          "model_name": "ProgressStyleModel",
          "model_module_version": "1.5.0",
          "state": {
            "_view_name": "StyleView",
            "_model_name": "ProgressStyleModel",
            "description_width": "",
            "_view_module": "@jupyter-widgets/base",
            "_model_module_version": "1.5.0",
            "_view_count": null,
            "_view_module_version": "1.2.0",
            "bar_color": null,
            "_model_module": "@jupyter-widgets/controls"
          }
        },
        "c93564d534d947fd997c687d3b3ddc02": {
          "model_module": "@jupyter-widgets/base",
          "model_name": "LayoutModel",
          "model_module_version": "1.2.0",
          "state": {
            "_view_name": "LayoutView",
            "grid_template_rows": null,
            "right": null,
            "justify_content": null,
            "_view_module": "@jupyter-widgets/base",
            "overflow": null,
            "_model_module_version": "1.2.0",
            "_view_count": null,
            "flex_flow": null,
            "width": null,
            "min_width": null,
            "border": null,
            "align_items": null,
            "bottom": null,
            "_model_module": "@jupyter-widgets/base",
            "top": null,
            "grid_column": null,
            "overflow_y": null,
            "overflow_x": null,
            "grid_auto_flow": null,
            "grid_area": null,
            "grid_template_columns": null,
            "flex": null,
            "_model_name": "LayoutModel",
            "justify_items": null,
            "grid_row": null,
            "max_height": null,
            "align_content": null,
            "visibility": null,
            "align_self": null,
            "height": null,
            "min_height": null,
            "padding": null,
            "grid_auto_rows": null,
            "grid_gap": null,
            "max_width": null,
            "order": null,
            "_view_module_version": "1.2.0",
            "grid_template_areas": null,
            "object_position": null,
            "object_fit": null,
            "grid_auto_columns": null,
            "margin": null,
            "display": null,
            "left": null
          }
        },
        "b9c8320464b148d089957df1c2773950": {
          "model_module": "@jupyter-widgets/controls",
          "model_name": "DescriptionStyleModel",
          "model_module_version": "1.5.0",
          "state": {
            "_view_name": "StyleView",
            "_model_name": "DescriptionStyleModel",
            "description_width": "",
            "_view_module": "@jupyter-widgets/base",
            "_model_module_version": "1.5.0",
            "_view_count": null,
            "_view_module_version": "1.2.0",
            "_model_module": "@jupyter-widgets/controls"
          }
        },
        "9143dc5508444da28b14c658df5df53e": {
          "model_module": "@jupyter-widgets/base",
          "model_name": "LayoutModel",
          "model_module_version": "1.2.0",
          "state": {
            "_view_name": "LayoutView",
            "grid_template_rows": null,
            "right": null,
            "justify_content": null,
            "_view_module": "@jupyter-widgets/base",
            "overflow": null,
            "_model_module_version": "1.2.0",
            "_view_count": null,
            "flex_flow": null,
            "width": null,
            "min_width": null,
            "border": null,
            "align_items": null,
            "bottom": null,
            "_model_module": "@jupyter-widgets/base",
            "top": null,
            "grid_column": null,
            "overflow_y": null,
            "overflow_x": null,
            "grid_auto_flow": null,
            "grid_area": null,
            "grid_template_columns": null,
            "flex": null,
            "_model_name": "LayoutModel",
            "justify_items": null,
            "grid_row": null,
            "max_height": null,
            "align_content": null,
            "visibility": null,
            "align_self": null,
            "height": null,
            "min_height": null,
            "padding": null,
            "grid_auto_rows": null,
            "grid_gap": null,
            "max_width": null,
            "order": null,
            "_view_module_version": "1.2.0",
            "grid_template_areas": null,
            "object_position": null,
            "object_fit": null,
            "grid_auto_columns": null,
            "margin": null,
            "display": null,
            "left": null
          }
        }
      }
    }
  },
  "cells": [
    {
      "cell_type": "markdown",
      "metadata": {
        "id": "g63FM9xTHISt"
      },
      "source": [
        "# EQ2425 - Analysis and Search of Visual Data"
      ]
    },
    {
      "cell_type": "markdown",
      "metadata": {
        "id": "9BekN9NVHTxJ"
      },
      "source": [
        "## Project 3: Image Classification using CNNs"
      ]
    },
    {
      "cell_type": "markdown",
      "metadata": {
        "id": "iwGMz1eKHYZr"
      },
      "source": [
        "**Author: Yage Hao (yage@kth.se)**"
      ]
    },
    {
      "cell_type": "markdown",
      "metadata": {
        "id": "HJ3DYlUDHiPt"
      },
      "source": [
        "### Import packages"
      ]
    },
    {
      "cell_type": "code",
      "metadata": {
        "id": "ah2hYq4rRe42"
      },
      "source": [
        "import numpy as np\n",
        "\n",
        "import torch\n",
        "import torch.nn.functional as F\n",
        "import torch.nn as nn \n",
        "import torch.optim as optim \n",
        "import torchvision\n",
        "import torchvision.transforms as transforms\n",
        "\n",
        "from torchvision.datasets import CIFAR10\n",
        "from torch.utils.data import DataLoader\n",
        "\n",
        "import statistics \n",
        "\n",
        "from sklearn.metrics import recall_score"
      ],
      "execution_count": 1,
      "outputs": []
    },
    {
      "cell_type": "code",
      "metadata": {
        "colab": {
          "base_uri": "https://localhost:8080/"
        },
        "id": "UNgWTnE0UCVe",
        "outputId": "c634a3a0-301f-4caa-d4f4-2d960f691c0e"
      },
      "source": [
        "print('PyTorch version:', torch.__version__)\n",
        "print('Torchvision version:', torchvision.__version__)"
      ],
      "execution_count": 2,
      "outputs": [
        {
          "output_type": "stream",
          "name": "stdout",
          "text": [
            "PyTorch version: 1.9.0+cu111\n",
            "Torchvision version: 0.10.0+cu111\n"
          ]
        }
      ]
    },
    {
      "cell_type": "markdown",
      "metadata": {
        "id": "mT6Mn37V-roR"
      },
      "source": [
        "### Data Pre-processing"
      ]
    },
    {
      "cell_type": "code",
      "metadata": {
        "id": "m6ftU3NO7lS-"
      },
      "source": [
        "normalize = transforms.Normalize(mean=[.5, .5, .5],std=[1 ,1, 1])\n",
        "\n",
        "dataset_transform = transforms.Compose([\n",
        "    transforms.ToTensor(),\n",
        "    normalize\n",
        "])"
      ],
      "execution_count": 3,
      "outputs": []
    },
    {
      "cell_type": "code",
      "metadata": {
        "colab": {
          "base_uri": "https://localhost:8080/",
          "height": 0,
          "referenced_widgets": [
            "9d50edf014024c0189c205123c16ecfe",
            "313b85d1d73a4a1a80e749cc83da4523",
            "5007cd5332934f0d8781cb69cdc5438d",
            "bf63eeabfa394558a8e9b33f939cbbf9",
            "2d2e5738523d496689093ccf2a73e7aa",
            "06d18a10f74b459f9c685d1efb8786b3",
            "ca5f293e7cf1429799329fff58d13a64",
            "b543853e6c5c4a818c6bf507f8373f1a",
            "c93564d534d947fd997c687d3b3ddc02",
            "b9c8320464b148d089957df1c2773950",
            "9143dc5508444da28b14c658df5df53e"
          ]
        },
        "id": "QGtJmf9X_8eM",
        "outputId": "55f9e5f8-eaf6-4414-d945-f4e415fb6474"
      },
      "source": [
        "train_set = CIFAR10('./cifar10', train=True, download=True, transform=dataset_transform)\n",
        "valid_set = CIFAR10('./cifar10', train=False, download=True, transform=dataset_transform)\n",
        "\n",
        "print(train_set.data.shape)\n",
        "print(valid_set.data.shape)"
      ],
      "execution_count": 4,
      "outputs": [
        {
          "output_type": "stream",
          "name": "stdout",
          "text": [
            "Downloading https://www.cs.toronto.edu/~kriz/cifar-10-python.tar.gz to ./cifar10/cifar-10-python.tar.gz\n"
          ]
        },
        {
          "output_type": "display_data",
          "data": {
            "application/vnd.jupyter.widget-view+json": {
              "model_id": "9d50edf014024c0189c205123c16ecfe",
              "version_minor": 0,
              "version_major": 2
            },
            "text/plain": [
              "  0%|          | 0/170498071 [00:00<?, ?it/s]"
            ]
          },
          "metadata": {}
        },
        {
          "output_type": "stream",
          "name": "stdout",
          "text": [
            "Extracting ./cifar10/cifar-10-python.tar.gz to ./cifar10\n",
            "Files already downloaded and verified\n",
            "(50000, 32, 32, 3)\n",
            "(10000, 32, 32, 3)\n"
          ]
        }
      ]
    },
    {
      "cell_type": "code",
      "metadata": {
        "id": "iveDtNqTB4I4"
      },
      "source": [
        "train_loader = DataLoader(train_set, batch_size=64, num_workers=0, shuffle=False)\n",
        "valid_loader = DataLoader(valid_set, batch_size=64, num_workers=0, shuffle=False)"
      ],
      "execution_count": 5,
      "outputs": []
    },
    {
      "cell_type": "markdown",
      "metadata": {
        "id": "6KAfjLRD-48n"
      },
      "source": [
        "### Build the Default Model"
      ]
    },
    {
      "cell_type": "code",
      "metadata": {
        "id": "v4ZUlXYJX4m3"
      },
      "source": [
        "class BasicCNN(nn.Module):\n",
        "\n",
        "  def __init__(self, num_classes):\n",
        "    super(BasicCNN, self).__init__()\n",
        "    self.conv1 = nn.Conv2d(3, 24, (5,5), stride=1, padding=0) \n",
        "    self.conv2 = nn.Conv2d(24, 48, (3,3), stride=1, padding=0) \n",
        "    self.conv3 = nn.Conv2d(48, 96, (3,3), stride=1, padding=0) \n",
        "    self.pool1 = nn.MaxPool2d((2,2), stride=2)\n",
        "    self.pool2 = nn.MaxPool2d((2,2), stride=2)\n",
        "    self.pool3 = nn.MaxPool2d((2,2), stride=2)\n",
        "    self.fc1 = nn.Linear(2*2*96, 512)\n",
        "    self.fc2 = nn.Linear(512, 10)\n",
        "    self.sm = nn.Softmax() \n",
        "  \n",
        "  def forward(self, x):\n",
        "    x = F.relu(self.conv1(x))\n",
        "    x = self.pool1(x)\n",
        "    x = F.relu(self.conv2(x))\n",
        "    x = self.pool2(x)\n",
        "    x = F.relu(self.conv3(x))\n",
        "    x = self.pool3(x)\n",
        "    x = x.reshape(x.size(0), -1)\n",
        "    x = F.relu(self.fc1(x))\n",
        "    x = self.fc2(x)\n",
        "    x = self.sm(x)\n",
        "    return x "
      ],
      "execution_count": 6,
      "outputs": []
    },
    {
      "cell_type": "code",
      "metadata": {
        "colab": {
          "base_uri": "https://localhost:8080/"
        },
        "id": "dpFXJd6T279K",
        "outputId": "d1d84ea2-99aa-40e7-fafc-ff681c75803f"
      },
      "source": [
        "cuda = torch.device('cuda')\n",
        "\n",
        "model = BasicCNN(10)\n",
        "model.to(cuda)"
      ],
      "execution_count": 7,
      "outputs": [
        {
          "output_type": "execute_result",
          "data": {
            "text/plain": [
              "BasicCNN(\n",
              "  (conv1): Conv2d(3, 24, kernel_size=(5, 5), stride=(1, 1))\n",
              "  (conv2): Conv2d(24, 48, kernel_size=(3, 3), stride=(1, 1))\n",
              "  (conv3): Conv2d(48, 96, kernel_size=(3, 3), stride=(1, 1))\n",
              "  (pool1): MaxPool2d(kernel_size=(2, 2), stride=2, padding=0, dilation=1, ceil_mode=False)\n",
              "  (pool2): MaxPool2d(kernel_size=(2, 2), stride=2, padding=0, dilation=1, ceil_mode=False)\n",
              "  (pool3): MaxPool2d(kernel_size=(2, 2), stride=2, padding=0, dilation=1, ceil_mode=False)\n",
              "  (fc1): Linear(in_features=384, out_features=512, bias=True)\n",
              "  (fc2): Linear(in_features=512, out_features=10, bias=True)\n",
              "  (sm): Softmax(dim=None)\n",
              ")"
            ]
          },
          "metadata": {},
          "execution_count": 7
        }
      ]
    },
    {
      "cell_type": "markdown",
      "metadata": {
        "id": "G9Wgo-fWFhTO"
      },
      "source": [
        "### Define functions for training"
      ]
    },
    {
      "cell_type": "markdown",
      "metadata": {
        "id": "7mjT7gacFmhW"
      },
      "source": [
        "Optimizer: SGD"
      ]
    },
    {
      "cell_type": "code",
      "metadata": {
        "id": "dRxUfCGiFkJX"
      },
      "source": [
        "optimizer = optim.SGD(model.parameters(), lr=0.001, momentum=0.9)"
      ],
      "execution_count": 8,
      "outputs": []
    },
    {
      "cell_type": "markdown",
      "metadata": {
        "id": "-AT93ryUGRFz"
      },
      "source": [
        "Train function"
      ]
    },
    {
      "cell_type": "code",
      "metadata": {
        "id": "fFXyaWKEGUJy"
      },
      "source": [
        "def train(model, loss_fn, optimizer):\n",
        "  model.train()\n",
        "\n",
        "  train_batch_losses = []\n",
        "\n",
        "  for batch, labels in train_loader:\n",
        "    batch = batch.to(cuda)\n",
        "    labels = labels.to(cuda)\n",
        "\n",
        "    optimizer.zero_grad()\n",
        "    y_pred = model(batch)\n",
        "    loss = loss_fn(y_pred, labels)\n",
        "    loss.backward()\n",
        "    optimizer.step()\n",
        "\n",
        "    train_batch_losses.append(float(loss))\n",
        "\n",
        "    mean_loss = statistics.mean(train_batch_losses)\n",
        "  \n",
        "  return mean_loss"
      ],
      "execution_count": 9,
      "outputs": []
    },
    {
      "cell_type": "markdown",
      "metadata": {
        "id": "y-az2yxMHDc-"
      },
      "source": [
        "Validation function"
      ]
    },
    {
      "cell_type": "code",
      "metadata": {
        "id": "_zxLRqocHCYF"
      },
      "source": [
        "def validate(model, loss_fn, optimizer):\n",
        "  model.eval()\n",
        "\n",
        "  predictions = []\n",
        "\n",
        "  with torch.no_grad():\n",
        "    validation_batch_losses = []\n",
        "\n",
        "    for batch, labels in valid_loader:\n",
        "      batch = batch.to(cuda)\n",
        "      labels = labels.to(cuda)\n",
        "\n",
        "      labels_pred = model(batch)\n",
        "      loss = loss_fn(labels_pred, labels)\n",
        "\n",
        "      validation_batch_losses.append(float(loss))\n",
        "\n",
        "      mean_loss = statistics.mean(validation_batch_losses)\n",
        "  return mean_loss"
      ],
      "execution_count": 10,
      "outputs": []
    },
    {
      "cell_type": "markdown",
      "metadata": {
        "id": "KGeNq6GTR6LQ"
      },
      "source": [
        "Recall Rate\n"
      ]
    },
    {
      "cell_type": "code",
      "metadata": {
        "id": "mG6W-M9jOJ-R"
      },
      "source": [
        "def recall(model, loader):\n",
        "  model.eval()\n",
        "\n",
        "  with torch.no_grad():\n",
        "    batch_recall = []\n",
        "\n",
        "    for batch, labels in loader:\n",
        "      batch = batch.to(cuda)\n",
        "      labels = labels.to(cuda)\n",
        "\n",
        "      labels_pred = model(batch)\n",
        "      _, predicted = torch.max(labels_pred.cpu().data, 1)\n",
        "\n",
        "      ma_recall = recall_score(labels.cpu(), predicted.cpu(), average='macro')\n",
        "      \n",
        "      batch_recall.append(ma_recall)\n",
        "      mean_recall = statistics.mean(batch_recall)\n",
        "\n",
        "  return mean_recall"
      ],
      "execution_count": 11,
      "outputs": []
    },
    {
      "cell_type": "markdown",
      "metadata": {
        "id": "0BjR1OeSSzcF"
      },
      "source": [
        "### Training"
      ]
    },
    {
      "cell_type": "code",
      "metadata": {
        "id": "wyOJBy5SS7Cu",
        "colab": {
          "base_uri": "https://localhost:8080/"
        },
        "outputId": "213571b2-ec70-4610-bd1e-56fa0e2a1f1c"
      },
      "source": [
        "loss_fn = nn.CrossEntropyLoss()\n",
        "\n",
        "epochs = 300\n",
        "\n",
        "train_losses = []\n",
        "valid_losses = []\n",
        "\n",
        "train_recalls = []\n",
        "valid_recalls = []\n",
        "\n",
        "for epoch in range(1, epochs+1):\n",
        "  print('Epoch:', epoch)\n",
        "\n",
        "  train_loss = train(model, loss_fn, optimizer)\n",
        "  train_recall = recall(model, train_loader)\n",
        "  train_losses.append(train_loss)\n",
        "  train_recalls.append(train_recall)\n",
        "\n",
        "  print('Training loss:', train_loss)\n",
        "  print('Training recall: {}%'.format(train_recall))\n",
        "\n",
        "  valid_loss = validate(model, loss_fn, optimizer)\n",
        "  valid_recall = recall(model, valid_loader)\n",
        "  valid_losses.append(valid_loss)\n",
        "  valid_recalls.append(valid_recall)\n",
        "\n",
        "  print('Validation loss:', valid_loss)\n",
        "  print('Validation recall: {}%'.format(valid_recall))"
      ],
      "execution_count": null,
      "outputs": [
        {
          "output_type": "stream",
          "name": "stdout",
          "text": [
            "Epoch: 1\n"
          ]
        },
        {
          "output_type": "stream",
          "name": "stderr",
          "text": [
            "/usr/local/lib/python3.7/dist-packages/torch/nn/functional.py:718: UserWarning: Named tensors and all their associated APIs are an experimental feature and subject to change. Please do not use them for anything important until they are released as stable. (Triggered internally at  /pytorch/c10/core/TensorImpl.h:1156.)\n",
            "  return torch.max_pool2d(input, kernel_size, stride, padding, dilation, ceil_mode)\n",
            "/usr/local/lib/python3.7/dist-packages/ipykernel_launcher.py:25: UserWarning: Implicit dimension choice for softmax has been deprecated. Change the call to include dim=X as an argument.\n",
            "/usr/local/lib/python3.7/dist-packages/sklearn/metrics/_classification.py:1272: UndefinedMetricWarning: Recall is ill-defined and being set to 0.0 in labels with no true samples. Use `zero_division` parameter to control this behavior.\n",
            "  _warn_prf(average, modifier, msg_start, len(result))\n"
          ]
        },
        {
          "output_type": "stream",
          "name": "stdout",
          "text": [
            "Training loss: 2.302545941394308\n",
            "Training recall: 0.11643774407840904%\n",
            "Validation loss: 2.302526943243233\n",
            "Validation recall: 0.11407118359347658%\n",
            "Epoch: 2\n"
          ]
        }
      ]
    },
    {
      "cell_type": "code",
      "metadata": {
        "id": "DNY5kv5Wen3N"
      },
      "source": [
        "print('Average training recall: {}%'.format(statistics.mean(train_recalls)))\n",
        "print('Average validation recall: {}%'.format(statistics.mean(valid_recalls)))"
      ],
      "execution_count": null,
      "outputs": []
    },
    {
      "cell_type": "markdown",
      "metadata": {
        "id": "x_mjiy9-eYnG"
      },
      "source": [
        "Result Document: https://docs.google.com/spreadsheets/d/1ojYF_o1rZ-KGAufCUG6QpHWw0i8j_2-ur9olJV41dvo/edit?usp=sharing"
      ]
    },
    {
      "cell_type": "markdown",
      "metadata": {
        "id": "Hm5BQGWHdyql"
      },
      "source": [
        "ref:\n",
        "\n",
        "\n",
        "*   https://colab.research.google.com/github/ccarpenterg/LearningPyTorch1.x/blob/master/04_cifar_10_challenging_convnets.ipynb#scrollTo=YczNCGVTJXp9\n",
        "*   https://blog.csdn.net/u013347145/article/details/104332094\n",
        "\n"
      ]
    }
  ]
}